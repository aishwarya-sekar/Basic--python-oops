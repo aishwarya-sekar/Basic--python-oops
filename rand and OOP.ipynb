{
 "cells": [
  {
   "cell_type": "code",
   "execution_count": 13,
   "metadata": {},
   "outputs": [
    {
     "name": "stdout",
     "output_type": "stream",
     "text": [
      "[8, 6, 9, 2, 5, 7, 4, 3, 10, 1]\n"
     ]
    }
   ],
   "source": [
    "from random import randint\n",
    "def foo(length):\n",
    "    list = []\n",
    "    is_done = False\n",
    "    while (is_done == False):\n",
    "        r = randint(1,length)\n",
    "        is_found = False\n",
    "        for n in list:\n",
    "            if (n==r):\n",
    "                is_found = True\n",
    "                break\n",
    "        if (is_found == False):\n",
    "            list.append(r)\n",
    "        if (len(list) == length):\n",
    "            is_done = True\n",
    "    return list\n",
    "\n",
    "x = foo(10)\n",
    "print (x)\n"
   ]
  },
  {
   "cell_type": "code",
   "execution_count": 5,
   "metadata": {},
   "outputs": [
    {
     "name": "stdout",
     "output_type": "stream",
     "text": [
      "10\n"
     ]
    }
   ],
   "source": [
    "import random\n",
    "print(random.randint(0,10))"
   ]
  },
  {
   "cell_type": "code",
   "execution_count": 6,
   "metadata": {},
   "outputs": [
    {
     "name": "stdout",
     "output_type": "stream",
     "text": [
      "6\n"
     ]
    }
   ],
   "source": [
    "from random import randrange\n",
    "print(randrange(10))"
   ]
  },
  {
   "cell_type": "code",
   "execution_count": 15,
   "metadata": {},
   "outputs": [
    {
     "name": "stdout",
     "output_type": "stream",
     "text": [
      "[1, 9, 4, 0, 2, 5, 3, 2, 5, 9]\n"
     ]
    }
   ],
   "source": [
    "import numpy as np\n",
    "X1 =list(np.random.randint(low=0, high=10, size=(10,)))\n",
    "\n",
    "print (X1)\n"
   ]
  },
  {
   "cell_type": "code",
   "execution_count": 17,
   "metadata": {},
   "outputs": [
    {
     "name": "stdout",
     "output_type": "stream",
     "text": [
      "[3]\n"
     ]
    }
   ],
   "source": [
    "import random\n",
    "randomlist = []\n",
    "for i in range(0,10):\n",
    "    n = random.randint(1,30)\n",
    "randomlist.append(n)\n",
    "print(randomlist)"
   ]
  },
  {
   "cell_type": "code",
   "execution_count": 20,
   "metadata": {},
   "outputs": [
    {
     "name": "stdout",
     "output_type": "stream",
     "text": [
      "Random number list is : [2, 8, 2, 2, 8, 3, 7, 1, 4, 1]\n"
     ]
    }
   ],
   "source": [
    "import random\n",
    " \n",
    "# using list comprehension + randrange()\n",
    "# to generate random number list\n",
    "res = [random.randrange(1, 10, 1) for i in range(10)]\n",
    " \n",
    "# printing result\n",
    "print (\"Random number list is : \" +  str(res))"
   ]
  },
  {
   "cell_type": "code",
   "execution_count": 9,
   "metadata": {},
   "outputs": [
    {
     "name": "stdout",
     "output_type": "stream",
     "text": [
      "[5, 9, 4, 3, 10, 2, 1, 7, 6, 8]\n"
     ]
    }
   ],
   "source": [
    "import random\n",
    "\n",
    "randlist = list(range(1,11)) # list of integers from 1 to 10\n",
    "random.shuffle(randlist)\n",
    "print (randlist) # <- List of unique random numbers"
   ]
  },
  {
   "cell_type": "code",
   "execution_count": 8,
   "metadata": {},
   "outputs": [
    {
     "name": "stdout",
     "output_type": "stream",
     "text": [
      "[6, 12, 18]\n"
     ]
    }
   ],
   "source": [
    "mult4 = [i*2 for i in [1, 2, 3, 4, 5, 6, 7, 8, 9] if i % 3 == 0]\n",
    "print (mult4) "
   ]
  },
  {
   "cell_type": "code",
   "execution_count": null,
   "metadata": {},
   "outputs": [],
   "source": [
    "###Object oriented programming"
   ]
  },
  {
   "cell_type": "code",
   "execution_count": 1,
   "metadata": {},
   "outputs": [
    {
     "name": "stdout",
     "output_type": "stream",
     "text": [
      "atgf\n"
     ]
    }
   ],
   "source": [
    "class gene:\n",
    " \n",
    "    # default constructor\n",
    "    def __init__(self):\n",
    "        self.gene = \"atgf\"\n",
    " \n",
    "    # a method for printing data members\n",
    "    def print_gene(self):\n",
    "        print(self.gene)\n",
    " \n",
    " \n",
    "# creating object of the class\n",
    "obj = gene()\n",
    " \n",
    "# calling the instance method using the object obj\n",
    "obj.print_gene()"
   ]
  },
  {
   "cell_type": "code",
   "execution_count": 94,
   "metadata": {},
   "outputs": [
    {
     "name": "stdout",
     "output_type": "stream",
     "text": [
      "chromosome name = atgf\n",
      "Length of the gene=11452\n",
      "the strand is-1\n"
     ]
    },
    {
     "data": {
      "text/plain": [
       "'-1'"
      ]
     },
     "execution_count": 94,
     "metadata": {},
     "output_type": "execute_result"
    }
   ],
   "source": [
    "class Gene:\n",
    " \n",
    "     \n",
    "    # parameterized constructor\n",
    "    def __init__(this, chromosome_name, start, end, strand, name):\n",
    "        this.chromosome_name=chromosome_name\n",
    "        this.genomic_start = start\n",
    "        this.genomic_end=end\n",
    "        this.strand=strand\n",
    "        this.gene_name=name\n",
    "     \n",
    "    def set_chromosome(this):\n",
    "        print(\"chromosome name = \" + str(this.chromosome_name))\n",
    "        \n",
    "    def calculate_gene_length(this):\n",
    "        print (\"Length of the gene=\" + str(this.genomic_end - this.genomic_start))\n",
    "        \n",
    "    def get_strand(this):\n",
    "        print(\"the strand is\" + str(this.strand))\n",
    "        return(this.strand)\n",
    "    \n",
    "    \n",
    "    \n",
    "       \n",
    "      \n",
    " \n",
    "# creating object of the class\n",
    "# this will invoke parameterized constructor\n",
    "gene1 = Gene('atgf', 2000, 13452, \"-1\", \"gene123\")\n",
    "\n",
    " \n",
    "# display result\n",
    "gene1.set_chromosome()\n",
    "gene1.calculate_gene_length()\n",
    "gene1.get_strand()\n",
    "\n"
   ]
  },
  {
   "cell_type": "code",
   "execution_count": 100,
   "metadata": {},
   "outputs": [
    {
     "name": "stdout",
     "output_type": "stream",
     "text": [
      "chromosome name is12\n",
      "genomic start is 2001\n",
      "genomic end is 10453\n",
      "Length of the gene is 8452\n",
      "the strand is -1\n",
      "updated gene name is gene456\n"
     ]
    }
   ],
   "source": [
    "class Gene:\n",
    " \n",
    "    # parameterized constructor\n",
    "    def __init__(this, chromosome_name, start, end, strand, name):\n",
    "        this.chromosome_name=chromosome_name\n",
    "        this.genomic_start = start\n",
    "        this.genomic_end=end\n",
    "        this.strand=strand\n",
    "        this.gene_name=name\n",
    "        \n",
    "    def show(this):\n",
    "        print (\"chromosome name is\" +str(this.chromosome_name))\n",
    "        print (\"genomic start is \" + str(this.genomic_start))\n",
    "        print (\"genomic end is \" +str(this.genomic_end))\n",
    "        print (\"Length of the gene is \" + str(this.genomic_end - this.genomic_start))\n",
    "        print(\"the strand is \" + str(this.strand))\n",
    "\n",
    "  # Adds a variable \n",
    "    def set_gene_name(this, gene_name):\n",
    "        this.gene_name = gene_name\n",
    "       \n",
    "    # Retrieves updated variable    \n",
    "    def get_gene_name(this):    \n",
    "        return this.gene_name \n",
    "\n",
    "# creating object of the class\n",
    "# this will invoke parameterized constructor\n",
    "gene1 = Gene(12, 2001, 10453, -1, \"gene123\")\n",
    "\n",
    "\n",
    "# display result\n",
    "gene1.show()\n",
    "gene1.set_gene_name(\"gene456\")\n",
    "print(\"updated gene name is \" + str(gene1.get_gene_name()))\n"
   ]
  },
  {
   "cell_type": "code",
   "execution_count": 92,
   "metadata": {},
   "outputs": [
    {
     "name": "stdout",
     "output_type": "stream",
     "text": [
      "updated gene name is gene456\n"
     ]
    }
   ],
   "source": [
    "class Gene:\n",
    " \n",
    "       \n",
    "   \n",
    "    # parameterized constructor\n",
    "    def __init__(this, chromosome_name, start, end, strand, name):\n",
    "        this.chromosome_name=chromosome_name\n",
    "        this.genomic_start = start\n",
    "        this.genomic_end=end\n",
    "        this.strand=strand\n",
    "        this.gene_name=name\n",
    "       \n",
    "        \n",
    "   \n",
    "        \n",
    "        \n",
    "       \n",
    "   # Adds a variable \n",
    "    def set_gene_name(this, gene_name):\n",
    "        this.gene_name = gene_name\n",
    "       \n",
    "    # Retrieves updated variable    \n",
    "    def get_gene_name(this):    \n",
    "        return this.gene_name \n",
    "\n",
    "    \n",
    "      \n",
    "# creating object of the class\n",
    "# this will invoke parameterized constructor\n",
    "gene1 = Gene(12, 2001, 10453, -1, \"gene123\")\n",
    "\n",
    "\n",
    "# display result\n",
    "\n",
    "gene1.set_gene_name(\"gene456\")\n",
    "print(\"updated gene name is \" + str(gene1.get_gene_name()))\n",
    "\n",
    "\n",
    "\n"
   ]
  },
  {
   "cell_type": "code",
   "execution_count": null,
   "metadata": {},
   "outputs": [],
   "source": []
  }
 ],
 "metadata": {
  "kernelspec": {
   "display_name": "Python 3",
   "language": "python",
   "name": "python3"
  },
  "language_info": {
   "codemirror_mode": {
    "name": "ipython",
    "version": 3
   },
   "file_extension": ".py",
   "mimetype": "text/x-python",
   "name": "python",
   "nbconvert_exporter": "python",
   "pygments_lexer": "ipython3",
   "version": "3.7.6"
  }
 },
 "nbformat": 4,
 "nbformat_minor": 4
}
